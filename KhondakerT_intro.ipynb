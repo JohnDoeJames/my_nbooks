{
 "cells": [
  {
   "cell_type": "markdown",
   "id": "c657c2e8-b85b-4cf8-a686-380d53f2dddc",
   "metadata": {},
   "source": [
    "# First Notebook"
   ]
  },
  {
   "cell_type": "markdown",
   "id": "bc478bc4-bb03-409c-9805-3b2fafe27828",
   "metadata": {},
   "source": [
    "## Tangil Khondaker"
   ]
  },
  {
   "cell_type": "code",
   "execution_count": 3,
   "id": "d54f38fe-fead-4a65-8134-505775fada63",
   "metadata": {},
   "outputs": [],
   "source": [
    "import random\n",
    "random_nums = [random.randint(30, 100) for _ in range(40)]"
   ]
  },
  {
   "cell_type": "code",
   "execution_count": 4,
   "id": "0db7ec39-b316-4ad4-8f9f-ee29efae4098",
   "metadata": {},
   "outputs": [
    {
     "name": "stdout",
     "output_type": "stream",
     "text": [
      "36 40 42 45 46 47 53 53 55 56 57 64 66 66 68 69 69 73 73 74 75 75 77 80 81 83 83 86 86 87 89 90 93 94 96 98 98 99 100 100\n"
     ]
    }
   ],
   "source": [
    "random_nums.sort()\n",
    "print(*random_nums)"
   ]
  },
  {
   "cell_type": "markdown",
   "id": "879e6c4f-63e1-48e2-af70-fe709877e3b0",
   "metadata": {},
   "source": [
    "## The Sample Mean\n",
    "- The sample mean is calculated by finding the total of all the numbers in the sample and then dividing it by the amount of numbers in the sample"
   ]
  },
  {
   "cell_type": "markdown",
   "id": "9bc5611d-5895-495a-ae19-2533bf413179",
   "metadata": {},
   "source": [
    "# $\\overline{x}$ = $\\frac{\\sum x_i}{n}$\n"
   ]
  },
  {
   "cell_type": "code",
   "execution_count": 7,
   "id": "009eb1cb-ad8b-4e17-b2a5-af65263332f4",
   "metadata": {},
   "outputs": [
    {
     "data": {
      "text/plain": [
       "'The sample mean is: 73.05'"
      ]
     },
     "execution_count": 7,
     "metadata": {},
     "output_type": "execute_result"
    }
   ],
   "source": [
    "x = sum(random_nums)/len(random_nums)\n",
    "f\"The sample mean is: {x:.2f}\""
   ]
  },
  {
   "cell_type": "markdown",
   "id": "e5a762c2-e294-4d59-afc7-a1d4cefe4b12",
   "metadata": {},
   "source": [
    "## The Median\n",
    "https://en.wikipedia.org/wiki/Median"
   ]
  },
  {
   "cell_type": "code",
   "execution_count": 9,
   "id": "eb0a432a-1ee6-4f45-9683-f41b08371305",
   "metadata": {},
   "outputs": [
    {
     "data": {
      "text/plain": [
       "'The median is: 74.5'"
      ]
     },
     "execution_count": 9,
     "metadata": {},
     "output_type": "execute_result"
    }
   ],
   "source": [
    "# To calculate the median for an even number of values you find the mean of the 2 values that are in the middle of the ordered list.\n",
    "import statistics\n",
    "y = statistics.median(random_nums)\n",
    "f\"The median is: {y:.1f}\""
   ]
  }
 ],
 "metadata": {
  "kernelspec": {
   "display_name": "Python 3 (ipykernel)",
   "language": "python",
   "name": "python3"
  },
  "language_info": {
   "codemirror_mode": {
    "name": "ipython",
    "version": 3
   },
   "file_extension": ".py",
   "mimetype": "text/x-python",
   "name": "python",
   "nbconvert_exporter": "python",
   "pygments_lexer": "ipython3",
   "version": "3.11.7"
  }
 },
 "nbformat": 4,
 "nbformat_minor": 5
}
